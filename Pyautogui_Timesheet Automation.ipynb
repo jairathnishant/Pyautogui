{
 "cells": [
  {
   "cell_type": "code",
   "execution_count": 67,
   "id": "31409261",
   "metadata": {},
   "outputs": [],
   "source": [
    "from AppOpener import run\n",
    "import pyautogui\n",
    "import win32gui, win32con\n",
    "import time\n",
    "import keyboard\n",
    "import time\n",
    "from multiprocessing import Process\n",
    "import webbrowser\n",
    "import datetime\n",
    "import time"
   ]
  },
  {
   "cell_type": "code",
   "execution_count": 68,
   "id": "02afe6a7",
   "metadata": {
    "scrolled": true
   },
   "outputs": [
    {
     "name": "stdout",
     "output_type": "stream",
     "text": [
      "Tuesday\n"
     ]
    }
   ],
   "source": [
    "# Open browser and the timesheet\n",
    "\n",
    "url = 'https://my304594.s4hana.ondemand.com/ui#TimeEntry-manageTimeEntry'\n",
    "chrome_path = r'C:\\Users\\nishantjairath\\AppData\\Local\\Google\\Chrome\\Application\\chrome.exe %s'\n",
    "#webbrowser.get(chrome_path).open(url)\n",
    "\n",
    "webbrowser.open(url,new=2)\n",
    "time.sleep(15)\n",
    "\n",
    "current_time = datetime.datetime.today()\n",
    "day_num = current_time.weekday()\n",
    "\n",
    "if (day_num == 0):\n",
    "    print('Monday')\n",
    "    pyautogui.moveTo(x=152, y=436, duration = 0.1)\n",
    "    pyautogui.click(x=152, y=436, clicks=2)\n",
    "    pyautogui.scroll(-700)\n",
    "elif (day_num == 1):\n",
    "    print('Tuesday')\n",
    "    pyautogui.moveTo(x=272, y=436, duration = 0.1)\n",
    "    pyautogui.click(x=272, y=436, clicks=2)\n",
    "    pyautogui.scroll(-700)\n",
    "elif (day_num == 2):\n",
    "    print('Wednesday')\n",
    "    pyautogui.moveTo(x=381, y=436, duration = 0.1)\n",
    "    pyautogui.click(x=381, y=436, clicks=2)\n",
    "    pyautogui.scroll(-700)\n",
    "elif (day_num == 3):\n",
    "    print('Thursday')\n",
    "    pyautogui.moveTo(x=492, y=436, duration = 0.1)\n",
    "    pyautogui.click(x=492, y=436, clicks=2)\n",
    "    pyautogui.scroll(-700)\n",
    "elif (day_num == 4):\n",
    "    print('Friday')\n",
    "    pyautogui.moveTo(x=618, y=436, duration = 0.1)\n",
    "    pyautogui.click(x=618, y=436, clicks=2)\n",
    "    pyautogui.scroll(-700)\n",
    "else:\n",
    "    pass\n",
    "\n",
    "pyautogui.click(x=362, y=597, duration = 0.1)\n",
    "pyautogui.write('Work', interval=0.25) \n",
    "\n",
    "pyautogui.click(x=340, y=648, duration = 1)\n",
    "pyautogui.click(x=1174, y=696, duration = 1)"
   ]
  }
 ],
 "metadata": {
  "kernelspec": {
   "display_name": "Python 3",
   "language": "python",
   "name": "python3"
  },
  "language_info": {
   "codemirror_mode": {
    "name": "ipython",
    "version": 3
   },
   "file_extension": ".py",
   "mimetype": "text/x-python",
   "name": "python",
   "nbconvert_exporter": "python",
   "pygments_lexer": "ipython3",
   "version": "3.8.8"
  }
 },
 "nbformat": 4,
 "nbformat_minor": 5
}
