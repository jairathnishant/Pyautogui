{
 "cells": [
  {
   "cell_type": "code",
   "execution_count": null,
   "id": "31409261",
   "metadata": {},
   "outputs": [],
   "source": [
    "from AppOpener import run\n",
    "import pyautogui\n",
    "import win32gui, win32con\n",
    "import time\n",
    "import keyboard\n",
    "import time\n",
    "from multiprocessing import Process"
   ]
  },
  {
   "cell_type": "code",
   "execution_count": null,
   "id": "2244a43e",
   "metadata": {},
   "outputs": [],
   "source": [
    "# Open MS Paint and make a rectangle every one minute\n",
    "\n",
    "\n",
    "def execute_program():\n",
    "\n",
    "    run(\"PAINT\")\n",
    "    print('paint')\n",
    "    hwnd = win32gui.GetForegroundWindow()\n",
    "    win32gui.ShowWindow(hwnd, win32con.SW_MAXIMIZE)\n",
    "\n",
    "    # brings mouse to start position\n",
    "    pyautogui.moveTo(x=343, y=428, duration = 0.1)\n",
    "\n",
    "    counter = 60 \n",
    "    x = 65 \n",
    "    y = 253\n",
    "\n",
    "    # create rectangle in MS Paint for 1 hour\n",
    "    try:\n",
    "        \n",
    "        while counter > 0:    \n",
    "            pyautogui.moveTo(x, y, duration = 1)\n",
    "            pyautogui.dragRel(0, 300, duration = 1)\n",
    "            pyautogui.dragRel(1000, 0, duration = 1)\n",
    "            pyautogui.dragRel(0, -300, duration = 1)\n",
    "            pyautogui.dragRel(-1000, 0, duration = 1)\n",
    "            #print(\"next\")\n",
    "            x = x+2\n",
    "            y = y+2\n",
    "            counter = counter-1\n",
    "            time.sleep(60)\n",
    "    except KeyboardInterrupt:\n",
    "        print('/n')"
   ]
  },
  {
   "cell_type": "code",
   "execution_count": null,
   "id": "db159e68",
   "metadata": {
    "scrolled": true
   },
   "outputs": [],
   "source": [
    "if __name__ == '__main__':\n",
    "    # The failsafe allows you to move the cursor on the upper left corner of the screen to terminate the program. \n",
    "    # It is STRONGLY RECOMMENDED to keep it True\n",
    "    pyautogui.FAILSAFE = True\n",
    "\n",
    "    # Spawn and start the process\n",
    "    execute_program_process = Process(target=execute_program())\n",
    "    print('start')\n",
    "    execute_program_process.start()\n",
    "\n",
    "    while True:\n",
    "        if keyboard.is_pressed('ctrl+c'):\n",
    "            execute_program_process.terminate()\n",
    "            break\n",
    "\n",
    "    print('\\nDone.')"
   ]
  }
 ],
 "metadata": {
  "kernelspec": {
   "display_name": "Python 3",
   "language": "python",
   "name": "python3"
  },
  "language_info": {
   "codemirror_mode": {
    "name": "ipython",
    "version": 3
   },
   "file_extension": ".py",
   "mimetype": "text/x-python",
   "name": "python",
   "nbconvert_exporter": "python",
   "pygments_lexer": "ipython3",
   "version": "3.8.8"
  }
 },
 "nbformat": 4,
 "nbformat_minor": 5
}
